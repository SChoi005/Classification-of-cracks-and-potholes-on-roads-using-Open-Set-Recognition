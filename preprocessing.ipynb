{
 "cells": [
  {
   "cell_type": "code",
   "execution_count": 2,
   "metadata": {},
   "outputs": [],
   "source": [
    "import json\n",
    "import cv2\n",
    "import matplotlib.pyplot as plt"
   ]
  },
  {
   "cell_type": "code",
   "execution_count": 69,
   "metadata": {},
   "outputs": [
    {
     "name": "stdout",
     "output_type": "stream",
     "text": [
      "[137.24137931034485, 628.2758620689656, 186.20689655172416, 604.8275862068966, 195.86206896551724, 585.5172413793103, 232.41379310344828, 569.6551724137931, 242.0689655172414, 553.7931034482759, 228.27586206896552, 537.2413793103449, 228.27586206896552, 520.6896551724138, 249.6551724137931, 508.2758620689655, 199.31034482758625, 479.3103448275862, 228.96551724137933, 498.6206896551725, 197.93103448275863, 486.2068965517241, 117.24137931034484, 469.65517241379314, 8.965517241379311, 437.93103448275866]\n",
      "V0F_HY_0483_20201123_151340_N_CH0_Busan_Sun_Frontback_Day_79479.png\n"
     ]
    }
   ],
   "source": [
    "with open('./Training/crack_annotation/V0F_HY_0483_20201123_151340_N_CH0_Busan_Sun_Frontback_Day_79479_PLINE.json') as f:\n",
    "    json_data = json.load(f)\n",
    "polyline = json_data['annotations'][0]['polyline'][0]\n",
    "img_filename = json_data['images']['file_name']\n",
    "print(polyline)\n",
    "print(img_filename)\n",
    "x_polyline = list(map(int,polyline[0::2]))\n",
    "y_polyline = list(map(int,polyline[1::2]))"
   ]
  },
  {
   "cell_type": "code",
   "execution_count": 71,
   "metadata": {},
   "outputs": [],
   "source": [
    "img = cv2.imread('./Training/crack/'+img_filename)\n",
    "crop_img = img[min(y_polyline):max(y_polyline), min(x_polyline):max(x_polyline), :]\n",
    "#crop_img[:,:,:]+=10\n",
    "cv2.imshow(\"sad\",crop_img)\n",
    "cv2.waitKey(0)\n",
    "cv2.destroyAllWindows()"
   ]
  },
  {
   "cell_type": "code",
   "execution_count": 48,
   "metadata": {},
   "outputs": [
    {
     "data": {
      "text/plain": [
       "array([[[0.18039216, 0.17254902, 0.16470589],\n",
       "        [0.18039216, 0.17254902, 0.16470589],\n",
       "        [0.18039216, 0.17254902, 0.16470589],\n",
       "        ...,\n",
       "        [0.24705882, 0.2627451 , 0.26666668],\n",
       "        [0.24313726, 0.25882354, 0.2627451 ],\n",
       "        [0.25490198, 0.27450982, 0.2784314 ]],\n",
       "\n",
       "       [[0.18039216, 0.17254902, 0.16470589],\n",
       "        [0.18039216, 0.17254902, 0.16470589],\n",
       "        [0.18039216, 0.17254902, 0.16470589],\n",
       "        ...,\n",
       "        [0.25490198, 0.27450982, 0.2784314 ],\n",
       "        [0.25882354, 0.2784314 , 0.28235295],\n",
       "        [0.2627451 , 0.28235295, 0.28627452]],\n",
       "\n",
       "       [[0.18039216, 0.17254902, 0.16470589],\n",
       "        [0.18039216, 0.17254902, 0.16470589],\n",
       "        [0.18039216, 0.17254902, 0.16470589],\n",
       "        ...,\n",
       "        [0.2627451 , 0.28235295, 0.28627452],\n",
       "        [0.27058825, 0.28627452, 0.2901961 ],\n",
       "        [0.2784314 , 0.29411766, 0.3019608 ]],\n",
       "\n",
       "       ...,\n",
       "\n",
       "       [[0.18039216, 0.17254902, 0.16470589],\n",
       "        [0.18039216, 0.17254902, 0.16470589],\n",
       "        [0.18039216, 0.17254902, 0.16470589],\n",
       "        ...,\n",
       "        [0.28627452, 0.28627452, 0.28627452],\n",
       "        [0.28627452, 0.28627452, 0.28627452],\n",
       "        [0.28627452, 0.28627452, 0.28627452]],\n",
       "\n",
       "       [[0.18039216, 0.17254902, 0.16470589],\n",
       "        [0.18039216, 0.17254902, 0.16470589],\n",
       "        [0.18039216, 0.17254902, 0.16470589],\n",
       "        ...,\n",
       "        [0.27450982, 0.27450982, 0.27450982],\n",
       "        [0.27450982, 0.27450982, 0.27450982],\n",
       "        [0.27058825, 0.27058825, 0.27058825]],\n",
       "\n",
       "       [[0.18039216, 0.17254902, 0.16470589],\n",
       "        [0.18039216, 0.17254902, 0.16470589],\n",
       "        [0.18039216, 0.17254902, 0.16470589],\n",
       "        ...,\n",
       "        [0.2509804 , 0.2509804 , 0.24313726],\n",
       "        [0.2509804 , 0.2509804 , 0.24313726],\n",
       "        [0.24705882, 0.24705882, 0.23921569]]], dtype=float32)"
      ]
     },
     "execution_count": 48,
     "metadata": {},
     "output_type": "execute_result"
    }
   ],
   "source": []
  },
  {
   "cell_type": "code",
   "execution_count": 96,
   "metadata": {},
   "outputs": [
    {
     "name": "stdout",
     "output_type": "stream",
     "text": [
      "6000\n",
      "6500\n",
      "7000\n",
      "7500\n",
      "8000\n",
      "8500\n"
     ]
    },
    {
     "ename": "TypeError",
     "evalue": "int() argument must be a string, a bytes-like object or a number, not 'NoneType'",
     "output_type": "error",
     "traceback": [
      "\u001b[1;31m---------------------------------------------------------------------------\u001b[0m",
      "\u001b[1;31mTypeError\u001b[0m                                 Traceback (most recent call last)",
      "\u001b[1;32mc:\\Users\\hufs\\Desktop\\기계학습데이터\\preprocessing.ipynb 셀 5\u001b[0m in \u001b[0;36m<cell line: 8>\u001b[1;34m()\u001b[0m\n\u001b[0;32m     <a href='vscode-notebook-cell:/c%3A/Users/hufs/Desktop/%EA%B8%B0%EA%B3%84%ED%95%99%EC%8A%B5%EB%8D%B0%EC%9D%B4%ED%84%B0/preprocessing.ipynb#W6sZmlsZQ%3D%3D?line=10'>11</a>\u001b[0m polyline \u001b[39m=\u001b[39m json_data[\u001b[39m'\u001b[39m\u001b[39mannotations\u001b[39m\u001b[39m'\u001b[39m][\u001b[39m0\u001b[39m][\u001b[39m'\u001b[39m\u001b[39mpolyline\u001b[39m\u001b[39m'\u001b[39m][\u001b[39m0\u001b[39m]\n\u001b[0;32m     <a href='vscode-notebook-cell:/c%3A/Users/hufs/Desktop/%EA%B8%B0%EA%B3%84%ED%95%99%EC%8A%B5%EB%8D%B0%EC%9D%B4%ED%84%B0/preprocessing.ipynb#W6sZmlsZQ%3D%3D?line=11'>12</a>\u001b[0m img_filename \u001b[39m=\u001b[39m json_data[\u001b[39m'\u001b[39m\u001b[39mimages\u001b[39m\u001b[39m'\u001b[39m][\u001b[39m'\u001b[39m\u001b[39mfile_name\u001b[39m\u001b[39m'\u001b[39m]\n\u001b[1;32m---> <a href='vscode-notebook-cell:/c%3A/Users/hufs/Desktop/%EA%B8%B0%EA%B3%84%ED%95%99%EC%8A%B5%EB%8D%B0%EC%9D%B4%ED%84%B0/preprocessing.ipynb#W6sZmlsZQ%3D%3D?line=12'>13</a>\u001b[0m x_polyline \u001b[39m=\u001b[39m \u001b[39mlist\u001b[39;49m(\u001b[39mmap\u001b[39;49m(\u001b[39mint\u001b[39;49m,polyline[\u001b[39m0\u001b[39;49m::\u001b[39m2\u001b[39;49m]))\n\u001b[0;32m     <a href='vscode-notebook-cell:/c%3A/Users/hufs/Desktop/%EA%B8%B0%EA%B3%84%ED%95%99%EC%8A%B5%EB%8D%B0%EC%9D%B4%ED%84%B0/preprocessing.ipynb#W6sZmlsZQ%3D%3D?line=13'>14</a>\u001b[0m y_polyline \u001b[39m=\u001b[39m \u001b[39mlist\u001b[39m(\u001b[39mmap\u001b[39m(\u001b[39mint\u001b[39m,polyline[\u001b[39m1\u001b[39m::\u001b[39m2\u001b[39m]))\n\u001b[0;32m     <a href='vscode-notebook-cell:/c%3A/Users/hufs/Desktop/%EA%B8%B0%EA%B3%84%ED%95%99%EC%8A%B5%EB%8D%B0%EC%9D%B4%ED%84%B0/preprocessing.ipynb#W6sZmlsZQ%3D%3D?line=14'>15</a>\u001b[0m img \u001b[39m=\u001b[39m cv2\u001b[39m.\u001b[39mimread(\u001b[39m'\u001b[39m\u001b[39m./Training/crack_1/\u001b[39m\u001b[39m'\u001b[39m\u001b[39m+\u001b[39mimg_filename)\n",
      "\u001b[1;31mTypeError\u001b[0m: int() argument must be a string, a bytes-like object or a number, not 'NoneType'"
     ]
    }
   ],
   "source": [
    "import os\n",
    "\n",
    "path = \"./Training/crack_annotation_1/\"\n",
    "file_list = os.listdir(path)\n",
    "\n",
    "count = 5623\n",
    "\n",
    "for file in file_list:\n",
    "    with open('./Training/crack_annotation_1/'+file) as f:\n",
    "        json_data = json.load(f)\n",
    "    polyline = json_data['annotations'][0]['polyline'][0]\n",
    "    img_filename = json_data['images']['file_name']\n",
    "    x_polyline = list(map(int,polyline[0::2]))\n",
    "    y_polyline = list(map(int,polyline[1::2]))\n",
    "    img = cv2.imread('./Training/crack_1/'+img_filename)\n",
    "\n",
    "    y_min = min(y_polyline)\n",
    "    y_max = max(y_polyline)\n",
    "    x_min = min(x_polyline)\n",
    "    x_max = max(x_polyline)\n",
    "\n",
    "    if y_min - 50 >=0:\n",
    "        y_min -= 50\n",
    "    if x_min - 50 >=0:\n",
    "        x_min -= 50\n",
    "    if y_max + 50 <=719:\n",
    "        y_max+=50\n",
    "    if x_max + 50 <=1279:\n",
    "        x_max+=50\n",
    "\n",
    "    crop_img = img[y_min:y_max, x_min:x_max, :]\n",
    "\n",
    "    crop_img =cv2.resize(crop_img, (64, 64))\n",
    "    #print(file)\n",
    "    cv2.imwrite('./Training/preprocessing_crack/{0}_crack.png'.format(count),crop_img)\n",
    "    count+=1\n",
    "    if(count%500==0):\n",
    "        print(count)"
   ]
  },
  {
   "cell_type": "code",
   "execution_count": 81,
   "metadata": {},
   "outputs": [],
   "source": [
    "with open('./Training/toa_annotation/V0F_HY_2838_20210104_093541_N_CH0_Busan_Sun_Frontback_Sunset_73437_BBOX.json') as f:\n",
    "    json_data = json.load(f)\n",
    "img_filename = json_data['images']['file_name']\n",
    "    "
   ]
  },
  {
   "cell_type": "code",
   "execution_count": 3,
   "metadata": {},
   "outputs": [
    {
     "ename": "FileNotFoundError",
     "evalue": "[WinError 3] 지정된 경로를 찾을 수 없습니다: './Training/toa_annotation/'",
     "output_type": "error",
     "traceback": [
      "\u001b[1;31m---------------------------------------------------------------------------\u001b[0m",
      "\u001b[1;31mFileNotFoundError\u001b[0m                         Traceback (most recent call last)",
      "\u001b[1;32mc:\\Users\\hufs\\Desktop\\기계학습데이터\\preprocessing.ipynb 셀 7\u001b[0m in \u001b[0;36m<cell line: 4>\u001b[1;34m()\u001b[0m\n\u001b[0;32m      <a href='vscode-notebook-cell:/c%3A/Users/hufs/Desktop/%EA%B8%B0%EA%B3%84%ED%95%99%EC%8A%B5%EB%8D%B0%EC%9D%B4%ED%84%B0/preprocessing.ipynb#W6sZmlsZQ%3D%3D?line=0'>1</a>\u001b[0m \u001b[39mimport\u001b[39;00m \u001b[39mos\u001b[39;00m\n\u001b[0;32m      <a href='vscode-notebook-cell:/c%3A/Users/hufs/Desktop/%EA%B8%B0%EA%B3%84%ED%95%99%EC%8A%B5%EB%8D%B0%EC%9D%B4%ED%84%B0/preprocessing.ipynb#W6sZmlsZQ%3D%3D?line=2'>3</a>\u001b[0m path \u001b[39m=\u001b[39m \u001b[39m\"\u001b[39m\u001b[39m./Training/toa_annotation/\u001b[39m\u001b[39m\"\u001b[39m\n\u001b[1;32m----> <a href='vscode-notebook-cell:/c%3A/Users/hufs/Desktop/%EA%B8%B0%EA%B3%84%ED%95%99%EC%8A%B5%EB%8D%B0%EC%9D%B4%ED%84%B0/preprocessing.ipynb#W6sZmlsZQ%3D%3D?line=3'>4</a>\u001b[0m file_list \u001b[39m=\u001b[39m os\u001b[39m.\u001b[39;49mlistdir(path)\n\u001b[0;32m      <a href='vscode-notebook-cell:/c%3A/Users/hufs/Desktop/%EA%B8%B0%EA%B3%84%ED%95%99%EC%8A%B5%EB%8D%B0%EC%9D%B4%ED%84%B0/preprocessing.ipynb#W6sZmlsZQ%3D%3D?line=5'>6</a>\u001b[0m \u001b[39m#pothole_count = 2856\u001b[39;00m\n\u001b[0;32m      <a href='vscode-notebook-cell:/c%3A/Users/hufs/Desktop/%EA%B8%B0%EA%B3%84%ED%95%99%EC%8A%B5%EB%8D%B0%EC%9D%B4%ED%84%B0/preprocessing.ipynb#W6sZmlsZQ%3D%3D?line=6'>7</a>\u001b[0m filled_pothole_count \u001b[39m=\u001b[39m \u001b[39m0\u001b[39m\n",
      "\u001b[1;31mFileNotFoundError\u001b[0m: [WinError 3] 지정된 경로를 찾을 수 없습니다: './Training/toa_annotation/'"
     ]
    }
   ],
   "source": [
    "import os\n",
    "\n",
    "path = \"./dataset/Train/toa_annotation/\"\n",
    "file_list = os.listdir(path)\n",
    "\n",
    "#pothole_count = 2856\n",
    "filled_pothole_count = 0\n",
    "\n",
    "for file in file_list:\n",
    "    with open('./dataset/Train/toa_annotation/'+file) as f:\n",
    "        json_data = json.load(f)\n",
    "    img_filename = json_data['images']['file_name']\n",
    "    img = cv2.imread('./dataset/Train/toa/'+img_filename)\n",
    "    print(img)\n",
    "\n",
    "    for seg in json_data['annotations']:\n",
    "        if seg['category_id'] <= 7:\n",
    "            bbox = seg['bbox']\n",
    "            x_bbox = list(map(int,bbox[0::2]))\n",
    "            y_bbox = list(map(int,bbox[1::2]))\n",
    "            y_min = min(y_bbox)\n",
    "            y_max = max(y_bbox)\n",
    "            x_min = min(x_bbox)\n",
    "            x_max = max(x_bbox)\n",
    "            if y_min - 50 >=0:\n",
    "                y_min -= 50\n",
    "            if x_min - 50 >=0:\n",
    "                x_min -= 50\n",
    "            if y_max + 50 <=719:\n",
    "                y_max+=50\n",
    "            if x_max + 50 <=1279:\n",
    "                x_max+=50\n",
    "            crop_img = img[y_min:y_max, x_min:x_max, :]\n",
    "            crop_img = cv2.resize(crop_img,(64,64))\n",
    "            cv2.imwrite('./dataset/Train/unknown/{0}_unknown.png'.format(filled_pothole_count), crop_img)\n",
    "            filled_pothole_count+=1\n",
    "            #break\n",
    "        \n",
    "        if filled_pothole_count%500==0:\n",
    "            print(\"unknwon : \"+str(filled_pothole_count))\n",
    "            \n",
    "        "
   ]
  },
  {
   "cell_type": "code",
   "execution_count": 88,
   "metadata": {},
   "outputs": [
    {
     "data": {
      "text/plain": [
       "[316.5, 132.5, 167, 41]"
      ]
     },
     "execution_count": 88,
     "metadata": {},
     "output_type": "execute_result"
    }
   ],
   "source": [
    "json_data['annotations'][0]['bbox']"
   ]
  },
  {
   "cell_type": "code",
   "execution_count": null,
   "metadata": {},
   "outputs": [],
   "source": [
    "elif seg['category_id'] == 8:\n",
    "            bbox = seg['bbox']\n",
    "            x_bbox = list(map(int,bbox[0::2]))\n",
    "            y_bbox = list(map(int,bbox[1::2]))\n",
    "            y_min = min(y_bbox)\n",
    "            y_max = max(y_bbox)\n",
    "            x_min = min(x_bbox)\n",
    "            x_max = max(x_bbox)\n",
    "            if y_min - 50 >=0:\n",
    "                y_min -= 50\n",
    "            if x_min - 50 >=0:\n",
    "                x_min -= 50\n",
    "            if y_max + 50 <=719:\n",
    "                y_max+=50\n",
    "            if x_max + 50 <=1279:\n",
    "                x_max+=50\n",
    "            crop_img = img[y_min:y_max, x_min:x_max, :]\n",
    "            crop_img = cv2.resize(crop_img,(64,64))\n",
    "            cv2.imwrite('./Training/preprocessing_pothole/{0}_pothole.png'.format(pothole_count), crop_img)\n",
    "            pothole_count+=1\n",
    "            #break"
   ]
  },
  {
   "cell_type": "code",
   "execution_count": 110,
   "metadata": {},
   "outputs": [],
   "source": [
    "from PIL import Image\n",
    "import cv2\n",
    "import os, glob, numpy as np\n",
    "#from sklearn.model_selection import train_test_split\n",
    "from tensorflow import keras \n",
    "import matplotlib.pyplot as plt\n",
    "import tensorflow as tf\n",
    "from tensorflow.compat.v1 import ConfigProto\n",
    "from tensorflow.compat.v1 import InteractiveSession\n",
    "from tensorflow.keras.callbacks import EarlyStopping, ModelCheckpoint\n",
    "from tensorflow import keras\n",
    "from tensorflow.keras.models import load_model\n"
   ]
  },
  {
   "cell_type": "code",
   "execution_count": 113,
   "metadata": {},
   "outputs": [
    {
     "data": {
      "text/plain": [
       "1.0"
      ]
     },
     "execution_count": 113,
     "metadata": {},
     "output_type": "execute_result"
    }
   ],
   "source": [
    "max([7.9713086e-13, 1.0000000e+00])"
   ]
  },
  {
   "cell_type": "code",
   "execution_count": null,
   "metadata": {},
   "outputs": [],
   "source": []
  }
 ],
 "metadata": {
  "kernelspec": {
   "display_name": "Python 3.8.13 ('Dental')",
   "language": "python",
   "name": "python3"
  },
  "language_info": {
   "codemirror_mode": {
    "name": "ipython",
    "version": 3
   },
   "file_extension": ".py",
   "mimetype": "text/x-python",
   "name": "python",
   "nbconvert_exporter": "python",
   "pygments_lexer": "ipython3",
   "version": "3.8.13"
  },
  "orig_nbformat": 4,
  "vscode": {
   "interpreter": {
    "hash": "9ed418d81c7845d174ada719b78b91afc93c512f897cdc51846cfca1115ec91a"
   }
  }
 },
 "nbformat": 4,
 "nbformat_minor": 2
}
